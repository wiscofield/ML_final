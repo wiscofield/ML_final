{
 "cells": [
  {
   "cell_type": "code",
   "execution_count": null,
   "id": "imposed-terrace",
   "metadata": {},
   "outputs": [],
   "source": [
    "import matplotlib as plt\n",
    "import numpy\n",
    "import librosa, librosa.display\n",
    "import os\n",
    "\n",
    "SAMPLE_RATE = 22050\n",
    "seg_len = 5\n",
    "\n",
    "# seg_len = length of segments (in seconds)\n",
    "def save_mfcc(seg_len, n_mfcc, write_dir):\n",
    "    # Define Return Variables\n",
    "    data = []\n",
    "    labels = []\n",
    "    \n",
    "    # Calculations\n",
    "    samp_per_seg = sr * 1000 * seg_len\n",
    "    \n",
    "    # Get filenames (from list or other file)\n",
    "    filenames = []\n",
    "\n",
    "    # Loading Files:\n",
    "    for i in range (0, len(filenames) - 1):\n",
    "        filename = filenames[i]\n",
    "        signal, sr = librosa.load(filename, sr=SAMPLE_RATE) # This is the default samplerate\n",
    "        label = 'x' # Once we know how labels are stored in dataset, this can be implemented\n",
    "        \n",
    "        # Splitting Segments\n",
    "        num_segs = len(sample) // samp_per_seg\n",
    "        for s in range(num_segs):\n",
    "            sample_start = s * samp_per_seg\n",
    "            sample_end = sample_start + samp_per_seg\n",
    "            \n",
    "            mfcc = librosa.feature.mfcc(signal[sample_start:sample_end], sr=sr, n_mfcc)\n",
    "            \n",
    "            data.append(mfcc)\n",
    "            labels.append(label)\n",
    "            \n",
    "        \n",
    "    for i in range(len(data)):\n",
    "        d = data[i]\n",
    "        label = labels[i]\n",
    "        \n",
    "        directory = os.open(write_dir + '/' + label, os.O_RDONLY)\n",
    "        def opener(path, flags):\n",
    "            return os.open(path, flags, dir_fd=directory)\n",
    "\n",
    "        \n",
    "        with open(filename + '.txt', x, opener=opener) as f:\n",
    "            print(d, file=f)\n",
    "            "
   ]
  },
  {
   "cell_type": "code",
   "execution_count": null,
   "id": "coastal-antenna",
   "metadata": {},
   "outputs": [],
   "source": []
  }
 ],
 "metadata": {
  "kernelspec": {
   "display_name": "Python 3",
   "language": "python",
   "name": "python3"
  },
  "language_info": {
   "codemirror_mode": {
    "name": "ipython",
    "version": 3
   },
   "file_extension": ".py",
   "mimetype": "text/x-python",
   "name": "python",
   "nbconvert_exporter": "python",
   "pygments_lexer": "ipython3",
   "version": "3.7.9"
  }
 },
 "nbformat": 4,
 "nbformat_minor": 5
}
