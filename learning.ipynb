{
 "cells": [
  {
   "cell_type": "code",
   "execution_count": 8,
   "id": "western-regular",
   "metadata": {},
   "outputs": [],
   "source": [
    "# Imports\n",
    "import pandas as pd\n",
    "import numpy as np\n",
    "import sklearn\n",
    "from sklearn import pipeline, ensemble\n",
    "import os"
   ]
  },
  {
   "cell_type": "code",
   "execution_count": 20,
   "id": "decent-dutch",
   "metadata": {},
   "outputs": [
    {
     "name": "stdout",
     "output_type": "stream",
     "text": [
      "Finished converting and padding data\n",
      "Split Complete! Train Size: 2374 Validation Size: 297 Test Size: 297\n"
     ]
    },
    {
     "name": "stderr",
     "output_type": "stream",
     "text": [
      "/opt/conda/envs/common/lib/python3.7/site-packages/numpy/core/_asarray.py:83: VisibleDeprecationWarning: Creating an ndarray from ragged nested sequences (which is a list-or-tuple of lists-or-tuples-or ndarrays with different lengths or shapes) is deprecated. If you meant to do this, you must specify 'dtype=object' when creating the ndarray\n",
      "  return array(a, dtype, copy=False, order=order)\n"
     ]
    }
   ],
   "source": [
    "# File Reading and Splitting\n",
    "\n",
    "# Read files\n",
    "data = []\n",
    "labels = []\n",
    "longest_sample_length = 0\n",
    "\n",
    "for root, dirpath, files in os.walk(\"Spectrograms\"):\n",
    "        for folder in dirpath:\n",
    "            for r, d, files_in_folder in os.walk(os.path.join(\"Spectrograms\", folder)):\n",
    "                for f in files_in_folder:\n",
    "                    path = os.path.join(root, folder, f)\n",
    "                    d = np.load(path)\n",
    "                    \n",
    "                    \n",
    "                    if len(d[1]) > longest_sample_length:\n",
    "                        longest_sample_length = len(d[1])\n",
    "                    \n",
    "                    data.append(d)\n",
    "                    labels.append(folder)\n",
    "                    \n",
    "\n",
    "data_new = []\n",
    "for i in range(len(data)):\n",
    "    d = data[i][1]\n",
    "    num_samp = longest_sample_length // len(d)\n",
    "    remainder = longest_sample_length % len(d)\n",
    "    \n",
    "    temp = []\n",
    "    for j in range(num_samp):\n",
    "        temp.extend(d)\n",
    "    temp.extend(d[:remainder])\n",
    "    \n",
    "    data_new.append(temp)\n",
    "\n",
    "print(\"Finished converting and padding data\")\n",
    "\n",
    "dx = [data_new, labels]\n",
    "dx = np.swapaxes(dx, 0, 1)\n",
    "\n",
    "split2 = 10 / 90\n",
    "train_val, test = sklearn.model_selection.train_test_split(dx, test_size=0.10, random_state=42)\n",
    "train, val = sklearn.model_selection.train_test_split(train_val, test_size=split2)\n",
    "\n",
    "print(\"Split Complete! Train Size:\", len(train), \"Validation Size:\", len(val), \"Test Size:\", len(test))"
   ]
  },
  {
   "cell_type": "code",
   "execution_count": 21,
   "id": "personal-myrtle",
   "metadata": {},
   "outputs": [],
   "source": [
    "# Rotate all on axes\n",
    "train_val = np.swapaxes(train_val, 0, 1)\n",
    "train = np.swapaxes(train, 0, 1)\n",
    "val = np.swapaxes(val, 0, 1)"
   ]
  },
  {
   "cell_type": "code",
   "execution_count": 22,
   "id": "violent-bulgarian",
   "metadata": {},
   "outputs": [
    {
     "data": {
      "text/html": [
       "<div>\n",
       "<style scoped>\n",
       "    .dataframe tbody tr th:only-of-type {\n",
       "        vertical-align: middle;\n",
       "    }\n",
       "\n",
       "    .dataframe tbody tr th {\n",
       "        vertical-align: top;\n",
       "    }\n",
       "\n",
       "    .dataframe thead th {\n",
       "        text-align: right;\n",
       "    }\n",
       "</style>\n",
       "<table border=\"1\" class=\"dataframe\">\n",
       "  <thead>\n",
       "    <tr style=\"text-align: right;\">\n",
       "      <th></th>\n",
       "      <th>0</th>\n",
       "      <th>1</th>\n",
       "      <th>2</th>\n",
       "      <th>3</th>\n",
       "      <th>4</th>\n",
       "      <th>5</th>\n",
       "      <th>6</th>\n",
       "      <th>7</th>\n",
       "      <th>8</th>\n",
       "      <th>9</th>\n",
       "      <th>...</th>\n",
       "      <th>163</th>\n",
       "      <th>164</th>\n",
       "      <th>165</th>\n",
       "      <th>166</th>\n",
       "      <th>167</th>\n",
       "      <th>168</th>\n",
       "      <th>169</th>\n",
       "      <th>170</th>\n",
       "      <th>171</th>\n",
       "      <th>172</th>\n",
       "    </tr>\n",
       "  </thead>\n",
       "  <tbody>\n",
       "    <tr>\n",
       "      <th>0</th>\n",
       "      <td>-112.833496</td>\n",
       "      <td>-108.474876</td>\n",
       "      <td>-101.984070</td>\n",
       "      <td>-99.889717</td>\n",
       "      <td>-105.678368</td>\n",
       "      <td>-105.322426</td>\n",
       "      <td>-107.726830</td>\n",
       "      <td>-108.189850</td>\n",
       "      <td>-111.603218</td>\n",
       "      <td>-105.419998</td>\n",
       "      <td>...</td>\n",
       "      <td>-100.648422</td>\n",
       "      <td>-92.565666</td>\n",
       "      <td>-50.639877</td>\n",
       "      <td>-16.048378</td>\n",
       "      <td>-6.180239</td>\n",
       "      <td>-77.818275</td>\n",
       "      <td>-106.416763</td>\n",
       "      <td>-99.696754</td>\n",
       "      <td>-101.013535</td>\n",
       "      <td>-102.716270</td>\n",
       "    </tr>\n",
       "    <tr>\n",
       "      <th>1</th>\n",
       "      <td>24.698315</td>\n",
       "      <td>14.715418</td>\n",
       "      <td>-31.502666</td>\n",
       "      <td>-23.843624</td>\n",
       "      <td>-32.176811</td>\n",
       "      <td>-37.559185</td>\n",
       "      <td>-35.798004</td>\n",
       "      <td>-28.446920</td>\n",
       "      <td>-27.895702</td>\n",
       "      <td>-32.486183</td>\n",
       "      <td>...</td>\n",
       "      <td>-33.370552</td>\n",
       "      <td>-27.245541</td>\n",
       "      <td>-24.217360</td>\n",
       "      <td>-29.487993</td>\n",
       "      <td>-26.427158</td>\n",
       "      <td>-27.025913</td>\n",
       "      <td>-29.057621</td>\n",
       "      <td>-28.249733</td>\n",
       "      <td>-26.735081</td>\n",
       "      <td>-27.277821</td>\n",
       "    </tr>\n",
       "    <tr>\n",
       "      <th>2</th>\n",
       "      <td>-17.802500</td>\n",
       "      <td>-13.220938</td>\n",
       "      <td>-57.034866</td>\n",
       "      <td>-67.178825</td>\n",
       "      <td>-61.048180</td>\n",
       "      <td>-66.046875</td>\n",
       "      <td>-30.087477</td>\n",
       "      <td>-15.565578</td>\n",
       "      <td>-55.454201</td>\n",
       "      <td>-53.608772</td>\n",
       "      <td>...</td>\n",
       "      <td>1.802675</td>\n",
       "      <td>1.824306</td>\n",
       "      <td>-3.585456</td>\n",
       "      <td>-9.248821</td>\n",
       "      <td>-8.329269</td>\n",
       "      <td>-6.058465</td>\n",
       "      <td>-16.620514</td>\n",
       "      <td>-43.195679</td>\n",
       "      <td>-40.458557</td>\n",
       "      <td>-16.432587</td>\n",
       "    </tr>\n",
       "    <tr>\n",
       "      <th>3</th>\n",
       "      <td>-53.923225</td>\n",
       "      <td>-82.695381</td>\n",
       "      <td>-93.734955</td>\n",
       "      <td>-74.396553</td>\n",
       "      <td>-82.325668</td>\n",
       "      <td>-97.158836</td>\n",
       "      <td>-73.379059</td>\n",
       "      <td>-83.386536</td>\n",
       "      <td>-101.038063</td>\n",
       "      <td>-65.377808</td>\n",
       "      <td>...</td>\n",
       "      <td>-73.102524</td>\n",
       "      <td>-88.308907</td>\n",
       "      <td>-73.969711</td>\n",
       "      <td>-94.293442</td>\n",
       "      <td>-95.303078</td>\n",
       "      <td>-62.370667</td>\n",
       "      <td>-83.600166</td>\n",
       "      <td>-91.256195</td>\n",
       "      <td>-67.135605</td>\n",
       "      <td>-50.392391</td>\n",
       "    </tr>\n",
       "    <tr>\n",
       "      <th>4</th>\n",
       "      <td>14.142057</td>\n",
       "      <td>-15.860601</td>\n",
       "      <td>-29.198671</td>\n",
       "      <td>-30.664646</td>\n",
       "      <td>-32.035343</td>\n",
       "      <td>-34.715744</td>\n",
       "      <td>-43.247852</td>\n",
       "      <td>-39.254150</td>\n",
       "      <td>-45.023003</td>\n",
       "      <td>-53.445801</td>\n",
       "      <td>...</td>\n",
       "      <td>69.048599</td>\n",
       "      <td>70.677139</td>\n",
       "      <td>64.835777</td>\n",
       "      <td>59.788353</td>\n",
       "      <td>60.539783</td>\n",
       "      <td>60.987869</td>\n",
       "      <td>61.000114</td>\n",
       "      <td>63.521782</td>\n",
       "      <td>63.164101</td>\n",
       "      <td>53.101856</td>\n",
       "    </tr>\n",
       "  </tbody>\n",
       "</table>\n",
       "<p>5 rows × 173 columns</p>\n",
       "</div>"
      ],
      "text/plain": [
       "          0           1           2          3           4           5    \\\n",
       "0 -112.833496 -108.474876 -101.984070 -99.889717 -105.678368 -105.322426   \n",
       "1   24.698315   14.715418  -31.502666 -23.843624  -32.176811  -37.559185   \n",
       "2  -17.802500  -13.220938  -57.034866 -67.178825  -61.048180  -66.046875   \n",
       "3  -53.923225  -82.695381  -93.734955 -74.396553  -82.325668  -97.158836   \n",
       "4   14.142057  -15.860601  -29.198671 -30.664646  -32.035343  -34.715744   \n",
       "\n",
       "          6           7           8           9    ...         163        164  \\\n",
       "0 -107.726830 -108.189850 -111.603218 -105.419998  ... -100.648422 -92.565666   \n",
       "1  -35.798004  -28.446920  -27.895702  -32.486183  ...  -33.370552 -27.245541   \n",
       "2  -30.087477  -15.565578  -55.454201  -53.608772  ...    1.802675   1.824306   \n",
       "3  -73.379059  -83.386536 -101.038063  -65.377808  ...  -73.102524 -88.308907   \n",
       "4  -43.247852  -39.254150  -45.023003  -53.445801  ...   69.048599  70.677139   \n",
       "\n",
       "         165        166        167        168         169        170  \\\n",
       "0 -50.639877 -16.048378  -6.180239 -77.818275 -106.416763 -99.696754   \n",
       "1 -24.217360 -29.487993 -26.427158 -27.025913  -29.057621 -28.249733   \n",
       "2  -3.585456  -9.248821  -8.329269  -6.058465  -16.620514 -43.195679   \n",
       "3 -73.969711 -94.293442 -95.303078 -62.370667  -83.600166 -91.256195   \n",
       "4  64.835777  59.788353  60.539783  60.987869   61.000114  63.521782   \n",
       "\n",
       "          171         172  \n",
       "0 -101.013535 -102.716270  \n",
       "1  -26.735081  -27.277821  \n",
       "2  -40.458557  -16.432587  \n",
       "3  -67.135605  -50.392391  \n",
       "4   63.164101   53.101856  \n",
       "\n",
       "[5 rows x 173 columns]"
      ]
     },
     "execution_count": 22,
     "metadata": {},
     "output_type": "execute_result"
    }
   ],
   "source": [
    "tdf = pd.DataFrame()\n",
    "vdf = pd.DataFrame()\n",
    "tvdf = pd.DataFrame()\n",
    "\n",
    "for i in range(len(train[0])):\n",
    "    tdf[i] = train[0][i]\n",
    "for i in range(len(val[0])):\n",
    "    vdf[i] = val[0][i]\n",
    "for i in range(len(train_val[0])):\n",
    "    tvdf[i] = train_val[0][i]\n",
    "\n",
    "tdf = np.swapaxes(tdf, 0, 1)\n",
    "vdf = np.swapaxes(vdf, 0, 1)\n",
    "tvdff = np.swapaxes(tvdf, 0, 1)\n",
    "\n",
    "tdf.head()"
   ]
  },
  {
   "cell_type": "code",
   "execution_count": 23,
   "id": "republican-perception",
   "metadata": {},
   "outputs": [],
   "source": [
    "# Shuffling\n",
    "X_train, y_train = sklearn.utils.shuffle(tdf, train[1])\n",
    "X_val, y_val = sklearn.utils.shuffle(vdf, val[1])"
   ]
  },
  {
   "cell_type": "code",
   "execution_count": 27,
   "id": "happy-renewal",
   "metadata": {},
   "outputs": [
    {
     "name": "stdout",
     "output_type": "stream",
     "text": [
      "Validation: 0.8114478114478114 Training: 1.0\n"
     ]
    }
   ],
   "source": [
    "pipeline = sklearn.pipeline.make_pipeline(sklearn.preprocessing.StandardScaler(), \n",
    "                                          sklearn.ensemble.RandomForestClassifier(n_estimators = 1500))\n",
    "\n",
    "X = X_train\n",
    "y = y_train\n",
    "\n",
    "pipeline.fit(X, y)\n",
    "\n",
    "valpred = pipeline.predict(X_val)\n",
    "trainpred = pipeline.predict(X_train)\n",
    "\n",
    "v_acc = sklearn.metrics.accuracy_score(valpred, y_val)\n",
    "t_acc = sklearn.metrics.accuracy_score(trainpred, y_train)\n",
    "\n",
    "print(\"Validation:\", v_acc, \"Training:\", t_acc)"
   ]
  },
  {
   "cell_type": "code",
   "execution_count": 25,
   "id": "ancient-sydney",
   "metadata": {},
   "outputs": [
    {
     "data": {
      "text/plain": [
       "<sklearn.metrics._plot.confusion_matrix.ConfusionMatrixDisplay at 0x14b10659e310>"
      ]
     },
     "execution_count": 25,
     "metadata": {},
     "output_type": "execute_result"
    },
    {
     "data": {
      "image/png": "[encoded data removed]",
      "text/plain": [
       "<Figure size 432x288 with 2 Axes>"
      ]
     },
     "metadata": {
      "needs_background": "light"
     },
     "output_type": "display_data"
    }
   ],
   "source": [
    "cm = sklearn.metrics.confusion_matrix(valpred, y_val)\n",
    "cm_plot = sklearn.metrics.ConfusionMatrixDisplay(cm)\n",
    "cm_plot.plot()"
   ]
  },
  {
   "cell_type": "code",
   "execution_count": 26,
   "id": "human-psychiatry",
   "metadata": {},
   "outputs": [
    {
     "data": {
      "text/plain": [
       "<sklearn.metrics._plot.confusion_matrix.ConfusionMatrixDisplay at 0x14b1109c9790>"
      ]
     },
     "execution_count": 26,
     "metadata": {},
     "output_type": "execute_result"
    },
    {
     "data": {
      "image/png": "[encoded data removed]",
      "text/plain": [
       "<Figure size 432x288 with 2 Axes>"
      ]
     },
     "metadata": {
      "needs_background": "light"
     },
     "output_type": "display_data"
    }
   ],
   "source": [
    "cm = sklearn.metrics.confusion_matrix(trainpred, y_train)\n",
    "cm_plot = sklearn.metrics.ConfusionMatrixDisplay(cm)\n",
    "cm_plot.plot()"
   ]
  },
  {
   "cell_type": "code",
   "execution_count": 29,
   "id": "checked-jersey",
   "metadata": {},
   "outputs": [
    {
     "name": "stdout",
     "output_type": "stream",
     "text": [
      "{'fit_time': array([26.55666924, 27.4490869 , 27.10295081, 27.32719898, 27.62938404]), 'score_time': array([0.23954916, 0.24080896, 0.24178123, 0.24195814, 0.24026847]), 'test_score': array([0.70105263, 0.74526316, 0.74736842, 0.73894737, 0.7257384 ])}\n"
     ]
    }
   ],
   "source": [
    "# Crossvalidation\n",
    "\n",
    "cv = sklearn.model_selection.cross_validate(pipeline, X, y, cv=5)\n",
    "\n",
    "print(cv)"
   ]
  },
  {
   "cell_type": "code",
   "execution_count": null,
   "id": "collect-firmware",
   "metadata": {},
   "outputs": [],
   "source": []
  }
 ],
 "metadata": {
  "kernelspec": {
   "display_name": "Python 3",
   "language": "python",
   "name": "python3"
  },
  "language_info": {
   "codemirror_mode": {
    "name": "ipython",
    "version": 3
   },
   "file_extension": ".py",
   "mimetype": "text/x-python",
   "name": "python",
   "nbconvert_exporter": "python",
   "pygments_lexer": "ipython3",
   "version": "3.7.9"
  }
 },
 "nbformat": 4,
 "nbformat_minor": 5
}
