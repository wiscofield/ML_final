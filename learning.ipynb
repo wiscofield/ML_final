{
 "cells": [
  {
   "cell_type": "code",
   "execution_count": 3,
   "id": "sporting-cycle",
   "metadata": {},
   "outputs": [],
   "source": [
    "# Imports\n",
    "import pandas as pd\n",
    "import numpy as np\n",
    "import sklearn\n",
    "import os"
   ]
  },
  {
   "cell_type": "code",
   "execution_count": 8,
   "id": "executed-reproduction",
   "metadata": {},
   "outputs": [
    {
     "name": "stdout",
     "output_type": "stream",
     "text": [
      "[[-261.85086    -264.83545    -262.17947    ... -395.56952\n",
      "  -394.00714    -394.7892    ]\n",
      " [-159.17732    -157.76245    -159.85919    ...  -26.769974\n",
      "   -24.536163    -25.709002  ]\n",
      " [  66.01224      72.508064     73.59497    ...   11.3442745\n",
      "    12.701443     15.786931  ]\n",
      " ...\n",
      " [  12.970456      7.64587       3.2503562  ...   -0.88628244\n",
      "     0.6253835     3.7936506 ]\n",
      " [  25.833715     23.841846     21.14335    ...    8.807221\n",
      "     7.906307     14.156892  ]\n",
      " [ -13.664149    -12.853683     -8.252953   ...    3.6218781\n",
      "     0.56779593    4.0646076 ]]\n"
     ]
    }
   ],
   "source": [
    "# File Reading and Splitting\n",
    "\n",
    "# Read files\n",
    "data = [[],[]]\n",
    "\n",
    "for root, dirpath, files in os.walk(\"Spectrograms\"):\n",
    "        for folder in dirpath:\n",
    "            for r, d, files_in_folder in os.walk(os.path.join(\"Spectrograms\", folder)):\n",
    "                for f in files_in_folder:\n",
    "                    path = os.path.join(root, folder, f)\n",
    "                    d = np.load(path)\n",
    "                    \n",
    "                    data[0].append(d)\n",
    "                    data[1].append(folder)\n",
    "# Split\n",
    "# Cross-Validation??"
   ]
  },
  {
   "cell_type": "code",
   "execution_count": null,
   "id": "wireless-reviewer",
   "metadata": {},
   "outputs": [],
   "source": []
  }
 ],
 "metadata": {
  "kernelspec": {
   "display_name": "Python 3",
   "language": "python",
   "name": "python3"
  },
  "language_info": {
   "codemirror_mode": {
    "name": "ipython",
    "version": 3
   },
   "file_extension": ".py",
   "mimetype": "text/x-python",
   "name": "python",
   "nbconvert_exporter": "python",
   "pygments_lexer": "ipython3",
   "version": "3.7.9"
  }
 },
 "nbformat": 4,
 "nbformat_minor": 5
}
